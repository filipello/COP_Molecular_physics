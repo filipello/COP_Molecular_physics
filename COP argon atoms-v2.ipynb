{
 "cells": [
  {
   "cell_type": "code",
   "execution_count": 1,
   "metadata": {},
   "outputs": [],
   "source": [
    "import numpy as np\n",
    "import matplotlib.pyplot as plt #changed"
   ]
  },
  {
   "cell_type": "code",
   "execution_count": 2,
   "metadata": {},
   "outputs": [],
   "source": [
    "#Define constants\n",
    "m = 39.95*1.68*10**(-27)\n",
    "epsilon = 119.8/1.381*10**(-23)\n",
    "sigma = 3.405 #angstrom\n",
    "h = 10**-6 #Timestep"
   ]
  },
  {
   "cell_type": "code",
   "execution_count": 88,
   "metadata": {},
   "outputs": [
    {
     "name": "stdout",
     "output_type": "stream",
     "text": [
      "[0.01 3.5  0.1  0.3 ]\n"
     ]
    }
   ],
   "source": [
    "#Particle initial conditions\n",
    "x_1 = 0.01\n",
    "y_1 = 3.5\n",
    "x_2 = 0.1\n",
    "y_2 = 0.9\n",
    "\n",
    "vx_1 = 0.1\n",
    "vy_1 = 0.3\n",
    "vx_2 = 0.2\n",
    "vy_2 = 0.1\n",
    "\n",
    "\n",
    "particle_1 = np.array([x_1, y_1, vx_1, vy_1])\n",
    "particle_2 = np.array([x_2, y_2, vx_2, vy_2])"
   ]
  },
  {
   "cell_type": "code",
   "execution_count": 4,
   "metadata": {},
   "outputs": [],
   "source": [
    "#Potential function\n",
    "\n",
    "def r(x,y):\n",
    "    r_pos = np.sqrt(x**2+y**2)\n",
    "    return r_pos\n",
    "\n",
    "def Grad_potential(x_1, y_1, x_2, y_2, epsilon = 119.8/1.381*10**(-23), sigma = 3.405):\n",
    "    direction = np.array([x_1 - x_2, y_1 - y_2])\n",
    "    r = np.sqrt((x_1 - x_2)**2+(y_1 - y_2)**2)\n",
    "    U_partial_r = 4 *epsilon* (12*(sigma)**(12)*(-1/r)**13 - (sigma)**(6)*(-1/r)**7)\n",
    "    grad_U = U_partial_r * direction *r**(-1)\n",
    "    return grad_U"
   ]
  },
  {
   "cell_type": "code",
   "execution_count": 67,
   "metadata": {},
   "outputs": [
    {
     "name": "stdout",
     "output_type": "stream",
     "text": [
      "<class 'numpy.float64'>\n",
      "<class 'numpy.ndarray'>\n",
      "<class 'numpy.float64'>\n",
      "[ 1.37602112e-20 -3.97517212e-19]\n",
      "0.0100001 3.5000003 0.10000020000000001 0.9000001\n"
     ]
    }
   ],
   "source": [
    "print(type(Grad_potential(x_1, y_1, x_2, y_2, epsilon = 119.8/1.381*10**(-23), sigma = 3.405)[0]))\n",
    "print(type(Grad_potential(x_1, y_1, x_2, y_2, epsilon = 119.8/1.381*10**(-23), sigma = 3.405)))\n",
    "print(type(np.float64(vx_1)))\n",
    "\n",
    "print(Grad_potential(x_1, y_1, x_2, y_2))\n",
    "vx_1new = vx_1 - (Grad_potential(x_1, y_1, x_2, y_2)[0])*h/m\n",
    "vy_1new = vy_1  - (Grad_potential(x_1, y_1, x_2, y_2)[1])*h/m\n",
    "\n",
    "x_1new = x_1 + vx_1*h\n",
    "y_1new = y_1 + vy_1*h\n",
    "x_2new = x_2 + vx_2*h\n",
    "y_2new = y_2 + vy_2*h\n",
    "\n",
    "print(x_1new, y_1new, x_2new, y_2new)"
   ]
  },
  {
   "cell_type": "code",
   "execution_count": 117,
   "metadata": {},
   "outputs": [
    {
     "data": {
      "text/plain": [
       "'\\n#Loop, old version\\ntime = 1\\ntimesteps = 100\\ni = 1\\nx_1_pos = np.array([x_1])\\ny_1_pos = np.array([y_1])\\nx_2_pos = np.array([x_2])\\ny_2_pos = np.array([y_2])\\nvx_1_pos = np.array([vx_1])\\nvy_1_pos = np.array([vy_1])\\nvx_2_pos = np.array([vx_2])\\nvy_2_pos = np.array([vy_2])\\n\\nfor i in range(timesteps):\\n    vx_1new = vx_1_pos[-1] - (Grad_potential(x_1_pos[-1], y_1_pos[-1], x_2_pos[-1], y_2_pos[-1])[0])*h/m\\n    vy_1new = vy_1_pos[-1] - (Grad_potential(x_1_pos[-1], y_1_pos[-1], x_2_pos[-1], y_2_pos[-1])[1])*h/m\\n    vx_2new = vx_2_pos[-1] - (Grad_potential(x_1_pos[-1], y_1_pos[-1], x_2_pos[-1], y_2_pos[-1])[0])*h/m\\n    vy_2new = vy_2_pos[-1] - (Grad_potential(x_1_pos[-1], y_1_pos[-1], x_2_pos[-1], y_2_pos[-1])[1])*h/m\\n    x_1new = x_1_pos[-1] + vx_1_pos[-1]*h\\n    y_1new = y_1_pos[-1] + vy_1_pos[-1]*h\\n    x_2new = x_2_pos[-1] + vx_2_pos[-1]*h\\n    y_2new = y_2_pos[-1] + vy_2_pos[-1]*h\\n    \\n    x_1_pos = np.append(x_1_pos, x_1new)\\n    y_1_pos = np.append(y_1_pos, y_1new)\\n    x_2_pos = np.append(x_2_pos, x_2new)\\n    y_2_pos = np.append(y_2_pos, y_2new)\\n    vx_1_pos = np.append(vx_1_pos, vx_1new)\\n    vy_1_pos = np.append(vy_1_pos, vy_1new)\\n    vx_2_pos = np.append(vx_2_pos, vx_2new)\\n    vy_2_pos = np.append(vy_2_pos, vy_2new)\\nprint((y_2_pos))\\n'"
      ]
     },
     "execution_count": 117,
     "metadata": {},
     "output_type": "execute_result"
    }
   ],
   "source": [
    "\"\"\"\n",
    "#New\n",
    "#Loop, old version\n",
    "time = 1\n",
    "timesteps = 100\n",
    "i = 1\n",
    "x_1_pos = np.array([x_1])\n",
    "y_1_pos = np.array([y_1])\n",
    "x_2_pos = np.array([x_2])\n",
    "y_2_pos = np.array([y_2])\n",
    "vx_1_pos = np.array([vx_1])\n",
    "vy_1_pos = np.array([vy_1])\n",
    "vx_2_pos = np.array([vx_2])\n",
    "vy_2_pos = np.array([vy_2])\n",
    "\n",
    "for i in range(timesteps):\n",
    "    vx_1new = vx_1_pos[-1] - (Grad_potential(x_1_pos[-1], y_1_pos[-1], x_2_pos[-1], y_2_pos[-1])[0])*h/m\n",
    "    vy_1new = vy_1_pos[-1] - (Grad_potential(x_1_pos[-1], y_1_pos[-1], x_2_pos[-1], y_2_pos[-1])[1])*h/m\n",
    "    vx_2new = vx_2_pos[-1] - (Grad_potential(x_1_pos[-1], y_1_pos[-1], x_2_pos[-1], y_2_pos[-1])[0])*h/m\n",
    "    vy_2new = vy_2_pos[-1] - (Grad_potential(x_1_pos[-1], y_1_pos[-1], x_2_pos[-1], y_2_pos[-1])[1])*h/m\n",
    "    x_1new = x_1_pos[-1] + vx_1_pos[-1]*h\n",
    "    y_1new = y_1_pos[-1] + vy_1_pos[-1]*h\n",
    "    x_2new = x_2_pos[-1] + vx_2_pos[-1]*h\n",
    "    y_2new = y_2_pos[-1] + vy_2_pos[-1]*h\n",
    "    \n",
    "    x_1_pos = np.append(x_1_pos, x_1new)\n",
    "    y_1_pos = np.append(y_1_pos, y_1new)\n",
    "    x_2_pos = np.append(x_2_pos, x_2new)\n",
    "    y_2_pos = np.append(y_2_pos, y_2new)\n",
    "    vx_1_pos = np.append(vx_1_pos, vx_1new)\n",
    "    vy_1_pos = np.append(vy_1_pos, vy_1new)\n",
    "    vx_2_pos = np.append(vx_2_pos, vx_2new)\n",
    "    vy_2_pos = np.append(vy_2_pos, vy_2new)\n",
    "print((y_2_pos))\n",
    "\"\"\""
   ]
  },
  {
   "cell_type": "code",
   "execution_count": 116,
   "metadata": {},
   "outputs": [],
   "source": [
    "#New\n",
    "#Same, but compact\n",
    "\n",
    "#Put initial values in 2D arrays\n",
    "\n",
    "part_1  = np.array([[x_1],[y_1],[vx_1],[vy_1]]) #starting position and velocity for particle 1\n",
    "#print(type(part_1))\n",
    "part_2  = np.array([[x_2],[y_2],[vx_2],[vy_2]]) #starting position and velocity for particle 2\n",
    "#print(part_1[0,-1])\n",
    "\n",
    "#Now loop 100 times over the functions to get the new positions and velocities\n",
    "timesteps = 100\n",
    "\n",
    "for i in range(timesteps):\n",
    "    #The constants don't have to be declared again in the Grad_potential function\n",
    "    vx_1new = part_1[2,-1] - (Grad_potential(part_1[0,-1], part_1[1,-1], part_2[0,-1], part_2[1,-1])[0])*h/m\n",
    "    vy_1new = part_1[3,-1] - (Grad_potential(part_1[0,-1], part_1[1,-1], part_2[0,-1], part_2[1,-1])[1])*h/m\n",
    "    vx_2new = part_2[2,-1] - (Grad_potential(part_1[0,-1], part_1[1,-1], part_2[0,-1], part_2[1,-1])[0])*h/m\n",
    "    vy_2new = part_2[3,-1] - (Grad_potential(part_1[0,-1], part_1[1,-1], part_2[0,-1], part_2[1,-1])[1])*h/m\n",
    "    x_1new = part_1[0,-1] + part_1[2,-1]*h\n",
    "    y_1new = part_1[1,-1] + part_1[3,-1]*h\n",
    "    x_2new = part_2[0,-1] + part_2[2,-1]*h\n",
    "    y_2new = part_2[1,-1] + part_2[3,-1]*h\n",
    "    \n",
    "    #add the new values for the x,y positions and velocities to the arrays for particles 1 and 2\n",
    "    part_1_new = np.array([[x_1new],[y_1new], [vx_1new],[vy_1new]])\n",
    "    part_1 = np.append(part_1, part_1_new, axis = 1)\n",
    "    \n",
    "    part_2_new = np.array([[x_2new],[y_2new], [vx_2new],[vy_2new]])\n",
    "    part_2 = np.append(part_2, part_2_new, axis = 1)\n",
    "    \n",
    "#print(part_2)"
   ]
  },
  {
   "cell_type": "code",
   "execution_count": 113,
   "metadata": {},
   "outputs": [
    {
     "data": {
      "image/png": "[encoded data removed]",
      "text/plain": [
       "<Figure size 432x288 with 1 Axes>"
      ]
     },
     "metadata": {
      "needs_background": "light"
     },
     "output_type": "display_data"
    }
   ],
   "source": [
    "#New\n",
    "#Scatter plot\n",
    "plt.scatter(part_1[0], part_1[1])\n",
    "plt.scatter(part_2[0], part_2[1])\n",
    "plt.title(\"Positions of particles\")\n",
    "plt.xlabel(\"x position\")\n",
    "plt.ylabel(\"y position\")\n",
    "plt.xlim(0.0, 0.11)\n",
    "plt.ylim(0, 4)\n",
    "plt.show()"
   ]
  }
 ],
 "metadata": {
  "kernelspec": {
   "display_name": "Python 3",
   "language": "python",
   "name": "python3"
  },
  "language_info": {
   "codemirror_mode": {
    "name": "ipython",
    "version": 3
   },
   "file_extension": ".py",
   "mimetype": "text/x-python",
   "name": "python",
   "nbconvert_exporter": "python",
   "pygments_lexer": "ipython3",
   "version": "3.7.3"
  }
 },
 "nbformat": 4,
 "nbformat_minor": 2
}
