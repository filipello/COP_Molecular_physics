{
 "cells": [
  {
   "cell_type": "code",
   "execution_count": 1,
   "metadata": {},
   "outputs": [],
   "source": [
    "import numpy as np\n",
    "import matplotlib.pyplot as plt\n",
    "import random"
   ]
  },
  {
   "cell_type": "code",
   "execution_count": 2,
   "metadata": {},
   "outputs": [],
   "source": [
    "#Define constants\n",
    "m = 39.95*1.68*10**(-27)\n",
    "epsilon = 119.8/1.381*10**(-23)\n",
    "sigma = 3.405 #angstrom\n",
    "h = 10**-4 #Timestep, sqrt(m*sigma**2/epsilon)\n",
    "\n",
    "#Potential function in natural units\n",
    "def r(x,y):\n",
    "    r_pos = np.sqrt(x**2+y**2)\n",
    "    return r_pos\n",
    "\n",
    "def Grad_potential(x_1, y_1, x_2, y_2):\n",
    "    direction = np.array([[x_1 - x_2], [y_1 - y_2]])\n",
    "    r = np.sqrt((x_1 - x_2)**2+(y_1 - y_2)**2)\n",
    "    U_partial_r = -4*(6*(r)**(-7) - 12*(r)**(-13))\n",
    "    grad_U = U_partial_r * direction *r**(-1)\n",
    "    return grad_U\n",
    "\n",
    "def boxcheck (x, y):\n",
    "    x_upper_limit = 5.0 #units of sigma\n",
    "    y_upper_limit = 5.0 #units of sigma\n",
    "    \n",
    "    x_lower_limit = 0\n",
    "    y_lower_limit = 0\n",
    "    \n",
    "    l = x_upper_limit - x_lower_limit #length of the box, only works for squares\n",
    "    \n",
    "    if x < x_upper_limit and x > x_lower_limit:\n",
    "        if y < y_upper_limit and y > y_lower_limit:\n",
    "            return np.array([x, y])\n",
    "        if y > y_upper_limit:\n",
    "            return np.array([x, y -l])\n",
    "        if y < y_lower_limit:\n",
    "            return np.array([x, y +l])\n",
    "    if x > x_upper_limit:\n",
    "        if ( y < y_upper_limit and y > y_lower_limit):\n",
    "            return np.array([x- l, y])\n",
    "        if y > y_upper_limit:\n",
    "            return np.array([x- l, y - l])\n",
    "        if y < y_lower_limit:\n",
    "            return np.array([x- l, y + l])\n",
    "    if x < x_lower_limit:\n",
    "        if ( y < y_upper_limit and y > y_lower_limit):\n",
    "            return np.array([x + l, y])\n",
    "        if y > y_upper_limit:\n",
    "            return np.array([x + l, y - l])\n",
    "        if y < y_lower_limit:\n",
    "            return np.array([x + l, y + l])\n",
    "\n",
    "\n",
    "        \n",
    "#Class for argon particles\n",
    "        \n",
    "class Particle:\n",
    "    \n",
    "    mass = 39.95*1.68*10**(-27)\n",
    "    def __init__(self, x, y, vx, vy):\n",
    "        self.x = x\n",
    "        self.y = y\n",
    "        self.vx = vx\n",
    "        self.vy = vy\n",
    "\n",
    "class Energy:\n",
    "    def __init__(self, E_tot, E_kin, E_pot):\n",
    "        self.E_tot = E_tot\n",
    "        self.E_kin = E_kin\n",
    "        self.E_pot = E_pot\n",
    "        \n"
   ]
  },
  {
   "cell_type": "code",
   "execution_count": 3,
   "metadata": {},
   "outputs": [],
   "source": [
    "# Loop to initialize the particles\n",
    "\n",
    "#Using natural units\n",
    "n_particles = 5\n",
    "\n",
    "particles = []\n",
    "\n",
    "energy = []\n",
    "E_kin_initial = np.array([0.0])\n",
    "E_pot_initial = np.array([0.0])\n",
    "\n",
    "for i in range(n_particles):\n",
    "    \n",
    "    x = random.uniform(0, 5.0) #sigma\n",
    "    y = random.uniform(0, 5.0) #sigma\n",
    "    position = np.array([[x],[y]])\n",
    "\n",
    "    vx = random.uniform(-1.0, 1.0) #sqrt(epsilon/m)\n",
    "    vy = random.uniform(-1.0, 1.0) #sqrt(epsilon/m)\n",
    "    velocity = np.array([[vx],[vy]])\n",
    "    particle = Particle(position[0], position[1], velocity[0], velocity[1])\n",
    "    particles.append(particle)\n",
    "    E_kin_initial += 0.5*(vx**2+vy**2)\n",
    "\n",
    "\n",
    "energy_initial  = Energy(E_kin_initial+E_pot_initial,E_kin_initial,E_pot_initial)\n",
    "energy.append(energy_initial)\n",
    "    \n",
    "particles_array = np.array(particles)\n",
    "energy_array = np.array(energy)"
   ]
  },
  {
   "cell_type": "code",
   "execution_count": 4,
   "metadata": {},
   "outputs": [],
   "source": [
    "timesteps = 5000\n",
    "\n",
    "for i in range(timesteps): #after each step i the particles will move\n",
    "    #Store the energies per particle\n",
    "    E_kin_particles = n_particles*[0]\n",
    "    E_pot_particles = n_particles*[0]\n",
    "\n",
    "    for j in range(n_particles): #finding the new values of velocity and position for each particle j\n",
    "        total_acceleration_x = 0\n",
    "        total_acceleration_y = 0\n",
    "        \n",
    "\n",
    "        for k in range(n_particles): #evaluating the net force acting on the particle j from the interacion with all other particles\n",
    "            if k != j:\n",
    "                acceleration = Grad_potential(particles_array[j].x[-1], particles_array[j].y[-1], particles_array[k].x[-1], particles_array[k].y[-1])\n",
    "                total_acceleration_x += acceleration[0]\n",
    "                total_acceleration_y += acceleration[1]\n",
    "        \n",
    "        new_x = particles_array[j].x[-1] + particles_array[j].vx[-1]*h + h**2/2*total_acceleration_x\n",
    "        new_y = particles_array[j].y[-1] + particles_array[j].vy[-1]*h + h**2/2*total_acceleration_y\n",
    "        \n",
    "        particles[j].x = np.append(particles_array[j].x, boxcheck(new_x, new_y)[0])\n",
    "        particles[j].y = np.append(particles_array[j].y, boxcheck(new_x, new_y)[1])\n",
    "\n",
    "        \n",
    "        old_total_acceleration_x = 0\n",
    "        old_total_acceleration_y = 0\n",
    "        \n",
    "\n",
    "        for k in range(n_particles): #evaluating the net force acting on the particle j from the interacion with all other particles\n",
    "            if k != j:\n",
    "                old_acceleration = Grad_potential(particles_array[j].x[-1], particles_array[j].y[-1], particles_array[k].x[-1], particles_array[k].y[-1])\n",
    "                old_total_acceleration_x += old_acceleration[0]\n",
    "                old_total_acceleration_y += old_acceleration[1]\n",
    "        \n",
    "        new_vel_x = particles_array[j].vx[-1] +h/2 * (total_acceleration_x + old_total_acceleration_x)\n",
    "        new_vel_y = particles_array[j].vy[-1] +h/2 * (total_acceleration_y + old_total_acceleration_y)\n",
    "        \n",
    "        \n",
    "        particles[j].vx = np.append(particles_array[j].vx, new_vel_x)\n",
    "        particles[j].vy = np.append(particles_array[j].vy, new_vel_y)\n",
    "\n",
    "\n",
    "        #Determine the different energies per particle\n",
    "        E_kin_particles[j]=(0.5*(new_vel_x[0]**2+new_vel_y[0]**2))\n",
    "        E_pot_particles[j]=(total_acceleration_x[0]+total_acceleration_y[0])\n",
    "\n",
    "    #sum the energies of all particles to get the total energies\n",
    "    E_kin_new = sum(E_kin_particles)\n",
    "    E_pot_new = sum(E_pot_particles)\n",
    "    E_tot_new = E_kin_new + E_pot_new\n",
    "    \n",
    "    energy[0].E_kin = np.append(energy_array[0].E_kin, E_kin_new)   \n",
    "    energy[0].E_tot = np.append(energy_array[0].E_tot, E_tot_new)\n",
    "    energy[0].E_pot = np.append(energy_array[0].E_pot, E_pot_new)\n"
   ]
  },
  {
   "cell_type": "code",
   "execution_count": 5,
   "metadata": {},
   "outputs": [
    {
     "data": {
      "text/plain": [
       "Text(0.5, 1.0, 'Positions of particles')"
      ]
     },
     "execution_count": 5,
     "metadata": {},
     "output_type": "execute_result"
    },
    {
     "data": {
      "image/png": "[encoded data removed]",
      "text/plain": [
       "<Figure size 432x288 with 1 Axes>"
      ]
     },
     "metadata": {
      "needs_background": "light"
     },
     "output_type": "display_data"
    }
   ],
   "source": [
    "for i in range(n_particles):\n",
    "    plt.plot(particles_array[i].x)\n",
    "plt.title(\"Positions of particles\")\n",
    "# plt.xlabel(\"x position ($\\sigma$)\")\n",
    "# plt.ylabel(\"y position ($\\sigma$)\")"
   ]
  },
  {
   "cell_type": "code",
   "execution_count": 6,
   "metadata": {},
   "outputs": [
    {
     "data": {
      "image/png": "[encoded data removed]",
      "text/plain": [
       "<Figure size 432x288 with 1 Axes>"
      ]
     },
     "metadata": {
      "needs_background": "light"
     },
     "output_type": "display_data"
    }
   ],
   "source": [
    "plt.plot(np.arange(timesteps+1), energy_array[0].E_kin, label = 'Kinetic energy')\n",
    "plt.plot(np.arange(timesteps+1), energy_array[0].E_pot, label = 'Potential energy')\n",
    "plt.plot(np.arange(timesteps+1), energy_array[0].E_tot, label = 'Total energy')\n",
    "plt.title(\"Energy of the total system\")\n",
    "plt.xlabel(\"Timestep\")\n",
    "plt.ylabel(\"Energy ($\\epsilon$)\")\n",
    "plt.legend()\n",
    "plt.show()"
   ]
  }
 ],
 "metadata": {
  "kernelspec": {
   "display_name": "Python 3",
   "language": "python",
   "name": "python3"
  },
  "language_info": {
   "codemirror_mode": {
    "name": "ipython",
    "version": 3
   },
   "file_extension": ".py",
   "mimetype": "text/x-python",
   "name": "python",
   "nbconvert_exporter": "python",
   "pygments_lexer": "ipython3",
   "version": "3.7.3"
  }
 },
 "nbformat": 4,
 "nbformat_minor": 2
}
