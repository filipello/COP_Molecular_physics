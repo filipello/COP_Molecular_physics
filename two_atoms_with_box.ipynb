{
 "cells": [
  {
   "cell_type": "code",
   "execution_count": 1,
   "metadata": {},
   "outputs": [],
   "source": [
    "import numpy as np\n",
    "import matplotlib.pyplot as plt\n",
    "import random"
   ]
  },
  {
   "cell_type": "code",
   "execution_count": 2,
   "metadata": {},
   "outputs": [],
   "source": [
    "#Define constants\n",
    "m = 39.95*1.68*10**(-27)\n",
    "epsilon = 119.8/1.381*10**(-23)\n",
    "sigma = 3.405 #angstrom\n",
    "h = 10**-6 #Timestep"
   ]
  },
  {
   "cell_type": "code",
   "execution_count": 4,
   "metadata": {},
   "outputs": [],
   "source": [
    "#Potential function\n",
    "\n",
    "def r(x,y):\n",
    "    r_pos = np.sqrt(x**2+y**2)\n",
    "    return r_pos\n",
    "\n",
    "def Grad_potential(x_1, y_1, x_2, y_2, epsilon = 119.8/1.381*10**(-23), sigma = 3.405):\n",
    "    direction = np.array([(x_1 - x_2), (y_1 - y_2)])\n",
    "    r = np.sqrt((x_1 - x_2)**2+(y_1 - y_2)**2)\n",
    "    U_partial_r = 4 *epsilon* (12*((sigma)**(12))*(-1/r)**13 - 6*((sigma)**(6))*(-1/r)**7)\n",
    "    grad_U = U_partial_r * direction *r**(-1)\n",
    "    return grad_U"
   ]
  },
  {
   "cell_type": "code",
   "execution_count": 5,
   "metadata": {},
   "outputs": [],
   "source": [
    "def boxcheck (x, y):\n",
    "    x_upper_limit = 5.0\n",
    "    y_upper_limit = 5.0\n",
    "    \n",
    "    x_lower_limit = 0\n",
    "    y_lower_limit = 0\n",
    "    \n",
    "    l = x_upper_limit - x_lower_limit #length of the box, only works for squares\n",
    "    \n",
    "    if x < x_upper_limit and x > x_lower_limit:\n",
    "        if y < y_upper_limit and y > y_lower_limit:\n",
    "            return np.array([x, y])\n",
    "        if y > y_upper_limit:\n",
    "            return np.array([x, y -l])\n",
    "        if y < y_lower_limit:\n",
    "            return np.array([x, y +l])\n",
    "    if x > x_upper_limit:\n",
    "        if ( y < y_upper_limit and y > y_lower_limit):\n",
    "            return np.array([x- l, y])\n",
    "        if y > y_upper_limit:\n",
    "            return np.array([x- l, y - l])\n",
    "        if y < y_lower_limit:\n",
    "            return np.array([x- l, y + l])\n",
    "    if x < x_lower_limit:\n",
    "        if ( y < y_upper_limit and y > y_lower_limit):\n",
    "            return np.array([x + l, y])\n",
    "        if y > y_upper_limit:\n",
    "            return np.array([x + l, y - l])\n",
    "        if y < y_lower_limit:\n",
    "            return np.array([x + l, y + l])\n",
    "\n",
    "        \n",
    "        \n",
    "#Class for argon particles\n",
    "        \n",
    "class Particle:\n",
    "    \n",
    "    mass = 39.95*1.68*10**(-27)\n",
    "    def __init__(self, position, velocity):\n",
    "        self.pos = position\n",
    "        self.vel = velocity"
   ]
  },
  {
   "cell_type": "code",
   "execution_count": null,
   "metadata": {},
   "outputs": [],
   "source": [
    "#Put initial values in 2D arrays\n",
    "#Random particle initial conditions\n",
    "\n",
    "x_1 = random.uniform(0, 5.0)\n",
    "y_1 = random.uniform(0, 5.0)\n",
    "x_2 = random.uniform(0, 5.0)\n",
    "y_2 = random.uniform(0, 5.0)\n",
    "\n",
    "vx_1 = random.uniform(-50.0, 50.0)\n",
    "vy_1 = random.uniform(-50.0, 50.0)\n",
    "vx_2 = random.uniform(-50.0, 50.0)\n",
    "vy_2 = random.uniform(-50.0, 50.0)\n",
    "\n",
    "part_1  = np.array([[x_1],[y_1],[vx_1],[vy_1]]) #starting position and velocity for particle 1\n",
    "part_2  = np.array([[x_2],[y_2],[vx_2],[vy_2]]) #starting position and velocity for particle 2"
   ]
  },
  {
   "cell_type": "code",
   "execution_count": 6,
   "metadata": {},
   "outputs": [],
   "source": [
    "# Loop to initialize the particles, it still needs implementation\n",
    "\n",
    "\n",
    "# n_particles = 5\n",
    "\n",
    "# for i in range(n_particles):\n",
    "    \n",
    "#     x = random.uniform(0, 10.0)\n",
    "#     y = random.uniform(0, 10.0)\n",
    "#     position = np.array([[x],[y]])\n",
    "    \n",
    "#     vx = random.uniform(-5.0, 5.0)\n",
    "#     vy = random.uniform(-5.0, 5.0)\n",
    "#     velocity = np.array([[vx],[vy]])\n",
    "    \n",
    "\n",
    "#     particle_str(i) = Particle(position, velocity)\n"
   ]
  },
  {
   "cell_type": "code",
   "execution_count": 7,
   "metadata": {
    "scrolled": true
   },
   "outputs": [
    {
     "name": "stdout",
     "output_type": "stream",
     "text": [
      "[   4.31071339    4.31070335    4.30907226    4.30582007    4.30131126\n",
      "    4.29603647    4.29036479    4.28450186    4.27854794    4.27255006\n",
      "    4.26653036    4.26049953    4.25446284    4.24842301    4.24238143\n",
      "    4.23633889    4.23029448    4.22424649    4.21819142    4.21212204\n",
      "    4.20602299    4.19986073    4.19355964    4.18694444    4.17959905\n",
      "    4.17052914    4.15744412    4.13579932    4.09995211    4.0502857\n",
      "    3.99443737    3.9370279     3.87926185    3.82140636    3.76352575\n",
      "    3.70563738    3.64774901    3.58986062    3.53197223    3.47408383\n",
      "    3.41619543    3.35830705    3.30041871    3.24253051    3.18464267\n",
      "    3.12675569    3.0688708     3.01099092    2.95312313    2.89528463\n",
      "    2.83751665    2.77991516    2.72269035    2.66625598    2.61129613\n",
      "    2.55866022    2.50895864    2.46210017    2.4173223     2.37372117\n",
      "    2.33066323    2.28782336    2.24506382    2.20233247    2.15961077\n",
      "    2.11689233    2.07417579    2.03146467    1.98876967    1.94612544\n",
      "    1.903647      1.86168       1.82042599    1.76626984    1.6270509\n",
      "    1.48624667    1.34537945   -7.94149961  -17.22874381  -26.515988\n",
      "  -35.80323219  -45.09047638  -54.37772058  -63.66496477  -72.95220896\n",
      "  -82.23945315  -91.52669735 -100.81394154 -110.10118573 -119.38842993\n",
      " -128.67567412 -137.96291831 -147.2501625  -156.5374067  -165.82465089\n",
      " -175.11189508 -184.39913927 -193.68638347 -202.97362766 -212.26087185\n",
      " -221.54811604]\n",
      "[4.47480068e+00 4.47479204e+00 4.47640446e+00 4.47963798e+00\n",
      " 4.48412812e+00 4.48938424e+00 4.49503725e+00 4.50088151e+00\n",
      " 4.50681675e+00 4.51279596e+00 4.51879699e+00 4.52480915e+00\n",
      " 4.53082716e+00 4.53684833e+00 4.54287123e+00 4.54889511e+00\n",
      " 4.55492084e+00 4.56095016e+00 4.56698656e+00 4.57303727e+00\n",
      " 4.57911764e+00 4.58526123e+00 4.59154365e+00 4.59814018e+00\n",
      " 4.60546690e+00 4.61451813e+00 4.62758448e+00 4.64921061e+00\n",
      " 4.68503915e+00 4.73468689e+00 4.79051655e+00 4.84790735e+00\n",
      " 4.90565472e+00 4.96349154e+00 2.13534759e-02 7.92231731e-02\n",
      " 1.37092878e-01 1.94962590e-01 2.52832309e-01 3.10702035e-01\n",
      " 3.68571763e-01 4.26441478e-01 4.84311143e-01 5.42180669e-01\n",
      " 6.00049839e-01 6.57918143e-01 7.15784364e-01 7.73645576e-01\n",
      " 8.31494692e-01 8.89314524e-01 9.47063833e-01 1.00464664e+00\n",
      " 1.06185278e+00 1.11826848e+00 1.17320966e+00 1.22582690e+00\n",
      " 1.27550980e+00 1.32234961e+00 1.36710881e+00 1.41069127e+00\n",
      " 1.45373053e+00 1.49655173e+00 1.53929259e+00 1.58200527e+00\n",
      " 1.62470830e+00 1.66740808e+00 1.71010594e+00 1.75279839e+00\n",
      " 1.79547472e+00 1.83810027e+00 1.88056004e+00 1.92250837e+00\n",
      " 1.96374371e+00 2.01788119e+00 2.15708146e+00 2.29786701e+00\n",
      " 2.43871556e+00 1.17255760e+01 2.10128015e+01 3.03000270e+01\n",
      " 3.95872525e+01 4.88744780e+01 5.81617036e+01 6.74489291e+01\n",
      " 7.67361546e+01 8.60233801e+01 9.53106056e+01 1.04597831e+02\n",
      " 1.13885057e+02 1.23172282e+02 1.32459508e+02 1.41746733e+02\n",
      " 1.51033959e+02 1.60321184e+02 1.69608410e+02 1.78895635e+02\n",
      " 1.88182861e+02 1.97470086e+02 2.06757312e+02 2.16044537e+02\n",
      " 2.25331763e+02]\n"
     ]
    }
   ],
   "source": [
    "\n",
    "#Now loop 100 times over the functions to get the new positions and velocities\n",
    "timesteps = 100\n",
    "\n",
    "for i in range(timesteps):\n",
    "    #The constants don't have to be declared again in the Grad_potential function\n",
    "    vx_1new = part_1[2,-1] - (Grad_potential(part_1[0,-1], part_1[1,-1], part_2[0,-1], part_2[1,-1])[0])*h/m\n",
    "    vy_1new = part_1[3,-1] - (Grad_potential(part_1[0,-1], part_1[1,-1], part_2[0,-1], part_2[1,-1])[1])*h/m\n",
    "    vx_2new = part_2[2,-1] - (Grad_potential(part_2[0,-1], part_2[1,-1], part_1[0,-1], part_1[1,-1])[0])*h/m\n",
    "    vy_2new = part_2[3,-1] - (Grad_potential(part_2[0,-1], part_2[1,-1], part_1[0,-1], part_1[1,-1])[1])*h/m\n",
    "    x_1new = part_1[0,-1] + part_1[2,-1]*h\n",
    "    y_1new = part_1[1,-1] + part_1[3,-1]*h\n",
    "    x_2new = part_2[0,-1] + part_2[2,-1]*h\n",
    "    y_2new = part_2[1,-1] + part_2[3,-1]*h\n",
    "\n",
    "    #Check if the particle is inside the box\n",
    "    position_check_part1 = boxcheck(x_1new, y_1new)\n",
    "    position_check_part2 = boxcheck(x_2new, y_2new)\n",
    "    \n",
    "    #add the new values for the x,y positions and velocities to the arrays for particles 1 and 2\n",
    "    part_1_new = np.array([[position_check_part1[0]], [position_check_part1[1]], [vx_1new],[vy_1new]])\n",
    "    part_1 = np.append(part_1, part_1_new, axis = 1)\n",
    "    \n",
    "    part_2_new = np.array([[position_check_part2[0]],[position_check_part2[1]], [vx_2new],[vy_2new]])\n",
    "    part_2 = np.append(part_2, part_2_new, axis = 1)\n",
    "    \n",
    "print(part_1[0])\n",
    "print(part_2[0])"
   ]
  },
  {
   "cell_type": "code",
   "execution_count": 8,
   "metadata": {},
   "outputs": [
    {
     "data": {
      "text/plain": [
       "'\\ndef initial_conditions(number_of_particles):\\n    for j < number_of_particles:\\n        \"part_\" + str(j)  = np.array([[random.uniform(-5, 5)],[random.uniform(-5, 5)],[random.uniform(-5, 5)],[random.uniform(-5, 5)]])\\nreturn \"part_\" + str(j) \\n'"
      ]
     },
     "execution_count": 8,
     "metadata": {},
     "output_type": "execute_result"
    }
   ],
   "source": [
    "#Three particles\n",
    "#Would be nice to be able to adjust number of particles by one change\n",
    "#Create one very big array, or one array per particle?\n",
    "# number_of_particles = 3\n",
    "#maybe make another function out of generating the initial conditions and of steps in the cell above\n",
    "\n",
    "#Create the positions and velocities randomly for particle_1\n",
    "# N_variables = 4 #2 positions and 2 velocities\n",
    "# part1 = [[random.uniform(-5,5) for i in range(1)] for j in range(N_variables)]\n",
    "\n",
    "\n",
    "#Doesn't work yet:\n",
    "\"\"\"\n",
    "def initial_conditions(number_of_particles):\n",
    "    for j < number_of_particles:\n",
    "        \"part_\" + str(j)  = np.array([[random.uniform(-5, 5)],[random.uniform(-5, 5)],[random.uniform(-5, 5)],[random.uniform(-5, 5)]])\n",
    "return \"part_\" + str(j) \n",
    "\"\"\""
   ]
  },
  {
   "cell_type": "code",
   "execution_count": 10,
   "metadata": {},
   "outputs": [
    {
     "data": {
      "image/png": "[encoded data removed]",
      "text/plain": [
       "<Figure size 432x288 with 1 Axes>"
      ]
     },
     "metadata": {
      "needs_background": "light"
     },
     "output_type": "display_data"
    }
   ],
   "source": [
    "#Scatter plot\n",
    "plt.scatter(part_1[0], part_1[1] )\n",
    "plt.scatter(part_2[0], part_2[1])\n",
    "plt.title(\"Positions of particles\")\n",
    "plt.xlabel(\"x position\")\n",
    "plt.ylabel(\"y position\")\n",
    "plt.xlim(0.0, 5.)\n",
    "plt.ylim(0, 5)\n",
    "plt.show()"
   ]
  },
  {
   "cell_type": "code",
   "execution_count": null,
   "metadata": {},
   "outputs": [],
   "source": []
  }
 ],
 "metadata": {
  "kernelspec": {
   "display_name": "Python 3 (ipykernel)",
   "language": "python",
   "name": "python3"
  },
  "language_info": {
   "codemirror_mode": {
    "name": "ipython",
    "version": 3
   },
   "file_extension": ".py",
   "mimetype": "text/x-python",
   "name": "python",
   "nbconvert_exporter": "python",
   "pygments_lexer": "ipython3",
   "version": "3.11.1"
  }
 },
 "nbformat": 4,
 "nbformat_minor": 2
}
