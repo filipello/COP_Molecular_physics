{
 "cells": [
  {
   "cell_type": "code",
   "execution_count": null,
   "metadata": {},
   "outputs": [],
   "source": [
    "import numpy as np\n",
    "import matplotlib.pyplot as plt\n",
    "import random"
   ]
  },
  {
   "cell_type": "code",
   "execution_count": null,
   "metadata": {},
   "outputs": [],
   "source": [
    "#Define constants\n",
    "m = 39.95*1.68*10**(-27)\n",
    "epsilon = 119.8/1.381*10**(-23)\n",
    "sigma = 3.405 #angstrom\n",
    "h = 10**-6 #Timestep"
   ]
  },
  {
   "cell_type": "code",
   "execution_count": null,
   "metadata": {},
   "outputs": [],
   "source": [
    "\"\"\"\n",
    "#Particle initial conditions\n",
    "x_1 = 0.01\n",
    "y_1 = 3.5\n",
    "x_2 = 0.1\n",
    "y_2 = 0.9\n",
    "\n",
    "vx_1 = 0.1\n",
    "vy_1 = 0.3\n",
    "vx_2 = 0.2\n",
    "vy_2 = 0.1\n",
    "\n",
    "\n",
    "particle_1 = np.array([x_1, y_1, vx_1, vy_1])\n",
    "particle_2 = np.array([x_2, y_2, vx_2, vy_2])\n",
    "\"\"\""
   ]
  },
  {
   "cell_type": "code",
   "execution_count": null,
   "metadata": {},
   "outputs": [],
   "source": [
    "#Potential function\n",
    "\n",
    "def r(x,y):\n",
    "    r_pos = np.sqrt(x**2+y**2)\n",
    "    return r_pos\n",
    "\n",
    "def Grad_potential(x_1, y_1, x_2, y_2, epsilon = 119.8/1.381*10**(-23), sigma = 3.405):\n",
    "    direction = np.array([x_1 - x_2, y_1 - y_2])\n",
    "    r = np.sqrt((x_1 - x_2)**2+(y_1 - y_2)**2)\n",
    "    U_partial_r = 4 *epsilon* (12*(sigma)**(12)*(-1/r)**13 - (sigma)**(6)*(-1/r)**7)\n",
    "    grad_U = U_partial_r * direction *r**(-1)\n",
    "    return grad_U"
   ]
  },
  {
   "cell_type": "code",
   "execution_count": null,
   "metadata": {},
   "outputs": [],
   "source": [
    "def boxcheck (x, y):\n",
    "    x_upper_limit = 10\n",
    "    y_upper_limit = 10\n",
    "    \n",
    "    x_lower_limit = 0\n",
    "    y_lower_limit = 0\n",
    "    \n",
    "    if x < x_upper_limit and x > x_lower_limit:\n",
    "        if y < y_upper_limit and y > y_lower_limit:\n",
    "            return np.array([x, y])\n",
    "        if y > y_upper_limit:\n",
    "            return np.array([x, y - y_upper_limit])\n",
    "        if y < y_lower_limit:\n",
    "            return np.array([x, y + y_lower_limit])\n",
    "    if x > x_upper_limit:\n",
    "        if ( y < y_upper_limit and y > y_lower_limit):\n",
    "            return np.array([x- x_upper_limit, y])\n",
    "        if y > y_upper_limit:\n",
    "            return np.array([x- x_upper_limit, y - y_upper_limit])\n",
    "        if y < y_lower_limit:\n",
    "            return np.array([x- x_upper_limit, y + y_lower_limit])\n",
    "    if x < x_lower_limit:\n",
    "        if ( y < y_upper_limit and y > y_lower_limit):\n",
    "            return np.array([x + x_lower_limit, y])\n",
    "        if y > y_upper_limit:\n",
    "            return np.array([x + x_lower_limit, y - y_upper_limit])\n",
    "        if y < y_lower_limit:\n",
    "            return np.array([x + x_lower_limit, y + y_lower_limit])\n",
    "    "
   ]
  },
  {
   "cell_type": "code",
   "execution_count": null,
   "metadata": {},
   "outputs": [],
   "source": [
    "\"\"\"\n",
    "#This is old, right?\n",
    "print(type(Grad_potential(x_1, y_1, x_2, y_2, epsilon = 119.8/1.381*10**(-23), sigma = 3.405)[0]))\n",
    "print(type(Grad_potential(x_1, y_1, x_2, y_2, epsilon = 119.8/1.381*10**(-23), sigma = 3.405)))\n",
    "print(type(np.float64(vx_1)))\n",
    "\n",
    "print(Grad_potential(x_1, y_1, x_2, y_2))\n",
    "vx_1new = vx_1 - (Grad_potential(x_1, y_1, x_2, y_2)[0])*h/m\n",
    "vy_1new = vy_1  - (Grad_potential(x_1, y_1, x_2, y_2)[1])*h/m\n",
    "\n",
    "x_1new = x_1 + vx_1*h\n",
    "y_1new = y_1 + vy_1*h\n",
    "x_2new = x_2 + vx_2*h\n",
    "y_2new = y_2 + vy_2*h\n",
    "\n",
    "print(x_1new, y_1new, x_2new, y_2new)\n",
    "\"\"\""
   ]
  },
  {
   "cell_type": "code",
   "execution_count": null,
   "metadata": {},
   "outputs": [],
   "source": [
    "#Put initial values in 2D arrays\n",
    "#Random particle initial conditions\n",
    "\n",
    "x_1 = random.uniform(-5, 5)\n",
    "y_1 = random.uniform(-5, 5)\n",
    "x_2 = random.uniform(-5, 5)\n",
    "y_2 = random.uniform(-5, 5)\n",
    "\n",
    "vx_1 = random.uniform(-5, 5)\n",
    "vy_1 = random.uniform(-5, 5)\n",
    "vx_2 = random.uniform(-5, 5)\n",
    "vy_2 = random.uniform(-5, 5)\n",
    "\n",
    "part_1  = np.array([[x_1],[y_1],[vx_1],[vy_1]]) #starting position and velocity for particle 1\n",
    "part_2  = np.array([[x_2],[y_2],[vx_2],[vy_2]]) #starting position and velocity for particle 2"
   ]
  },
  {
   "cell_type": "code",
   "execution_count": null,
   "metadata": {},
   "outputs": [],
   "source": [
    "\n",
    "#Now loop 100 times over the functions to get the new positions and velocities\n",
    "timesteps = 100\n",
    "\n",
    "for i in range(timesteps):\n",
    "    #The constants don't have to be declared again in the Grad_potential function\n",
    "    vx_1new = part_1[2,-1] - (Grad_potential(part_1[0,-1], part_1[1,-1], part_2[0,-1], part_2[1,-1])[0])*h/m\n",
    "    vy_1new = part_1[3,-1] - (Grad_potential(part_1[0,-1], part_1[1,-1], part_2[0,-1], part_2[1,-1])[1])*h/m\n",
    "    vx_2new = part_2[2,-1] - (Grad_potential(part_1[0,-1], part_1[1,-1], part_2[0,-1], part_2[1,-1])[0])*h/m\n",
    "    vy_2new = part_2[3,-1] - (Grad_potential(part_1[0,-1], part_1[1,-1], part_2[0,-1], part_2[1,-1])[1])*h/m\n",
    "    x_1new = part_1[0,-1] + part_1[2,-1]*h\n",
    "    y_1new = part_1[1,-1] + part_1[3,-1]*h\n",
    "    x_2new = part_2[0,-1] + part_2[2,-1]*h\n",
    "    y_2new = part_2[1,-1] + part_2[3,-1]*h\n",
    "\n",
    "    #Check if the particle is inside the box\n",
    "    position_check_part1 = boxcheck(x_1new, y_1new)\n",
    "    position_check_part2 = boxcheck(x_2new, y_2new)\n",
    "    \n",
    "    #add the new values for the x,y positions and velocities to the arrays for particles 1 and 2\n",
    "    part_1_new = np.array([[position_check_part1[0]], [position_check_part1[1]], [vx_1new],[vy_1new]])\n",
    "    part_1 = np.append(part_1, part_1_new, axis = 1)\n",
    "    \n",
    "    part_2_new = np.array([[position_check_part2[0]],[position_check_part2[1]], [vx_2new],[vy_2new]])\n",
    "    part_2 = np.append(part_2, part_2_new, axis = 1)"
   ]
  },
  {
   "cell_type": "code",
   "execution_count": null,
   "metadata": {},
   "outputs": [],
   "source": [
    "#Three particles\n",
    "#Would be nice to be able to adjust number of particles by one change\n",
    "#Create one very big array, or one array per particle?\n",
    "number_of_particles = 3\n",
    "#maybe make another function out of generating the initial conditions and of steps in the cell above\n",
    "\n",
    "#Create the positions and velocities randomly for particle_1\n",
    "N_variables = 4 #2 positions and 2 velocities\n",
    "part1 = [[random.uniform(-5,5) for i in range(1)] for j in range(N_variables)]\n",
    "\n",
    "\n",
    "#Doesn't work yet:\n",
    "\"\"\"\n",
    "def initial_conditions(number_of_particles):\n",
    "    for j < number_of_particles:\n",
    "        \"part_\" + str(j)  = np.array([[random.uniform(-5, 5)],[random.uniform(-5, 5)],[random.uniform(-5, 5)],[random.uniform(-5, 5)]])\n",
    "return \"part_\" + str(j) \n",
    "\"\"\""
   ]
  },
  {
   "cell_type": "code",
   "execution_count": null,
   "metadata": {},
   "outputs": [],
   "source": [
    "#Scatter plot\n",
    "plt.scatter(part_1[0], part_1[1])\n",
    "plt.scatter(part_2[0], part_2[1])\n",
    "plt.title(\"Positions of particles\")\n",
    "plt.xlabel(\"x position\")\n",
    "plt.ylabel(\"y position\")\n",
    "plt.xlim(0.0, 0.11)\n",
    "plt.ylim(0, 4)\n",
    "plt.show()"
   ]
  }
 ],
 "metadata": {
  "language_info": {
   "name": "python"
  },
  "orig_nbformat": 4
 },
 "nbformat": 4,
 "nbformat_minor": 2
}
