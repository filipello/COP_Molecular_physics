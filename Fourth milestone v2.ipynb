{
 "cells": [
  {
   "cell_type": "code",
   "execution_count": 1,
   "metadata": {},
   "outputs": [],
   "source": [
    "import numpy as np\n",
    "import matplotlib.pyplot as plt\n",
    "import random\n",
    "from IPython.display import clear_output"
   ]
  },
  {
   "cell_type": "code",
   "execution_count": 2,
   "metadata": {},
   "outputs": [],
   "source": [
    "#Define constants\n",
    "m = 39.95*1.68*10**(-27)\n",
    "epsilon = 119.8/1.381*10**(-23)\n",
    "sigma = 3.405 #angstrom\n",
    "h = 10**-4 #Timestep, sqrt(m*sigma**2/epsilon)\n",
    "\n",
    "#Potential function in natural units\n",
    "def r(x,y):\n",
    "    r_pos = np.sqrt(x**2+y**2)\n",
    "    return r_pos\n",
    "\n",
    "def Grad_potential(x_1, y_1, x_2, y_2):\n",
    "    direction = np.array([[x_1 - x_2], [y_1 - y_2]])\n",
    "    r = np.sqrt((x_1 - x_2)**2+(y_1 - y_2)**2)\n",
    "    U_partial_r = -4*(6*(r)**(-7) - 12*(r)**(-13))\n",
    "    grad_U = U_partial_r * direction *r**(-1)\n",
    "    return grad_U\n",
    "\n",
    "def boxcheck (x, y):\n",
    "    x_upper_limit = 5.0 #units of sigma\n",
    "    y_upper_limit = 5.0 #units of sigma\n",
    "    \n",
    "    x_lower_limit = 0\n",
    "    y_lower_limit = 0\n",
    "    \n",
    "    l = x_upper_limit - x_lower_limit #length of the box, only works for squares\n",
    "    \n",
    "    if x < x_upper_limit and x > x_lower_limit:\n",
    "        if y < y_upper_limit and y > y_lower_limit:\n",
    "            return np.array([x, y])\n",
    "        if y > y_upper_limit:\n",
    "            return np.array([x, y -l])\n",
    "        if y < y_lower_limit:\n",
    "            return np.array([x, y +l])\n",
    "    if x > x_upper_limit:\n",
    "        if ( y < y_upper_limit and y > y_lower_limit):\n",
    "            return np.array([x- l, y])\n",
    "        if y > y_upper_limit:\n",
    "            return np.array([x- l, y - l])\n",
    "        if y < y_lower_limit:\n",
    "            return np.array([x- l, y + l])\n",
    "    if x < x_lower_limit:\n",
    "        if ( y < y_upper_limit and y > y_lower_limit):\n",
    "            return np.array([x + l, y])\n",
    "        if y > y_upper_limit:\n",
    "            return np.array([x + l, y - l])\n",
    "        if y < y_lower_limit:\n",
    "            return np.array([x + l, y + l])\n",
    "\n",
    "\n",
    "        \n",
    "#Class for argon particles\n",
    "        \n",
    "class Particle:\n",
    "    \n",
    "    mass = 39.95*1.68*10**(-27)\n",
    "    def __init__(self, x, y, z, vx, vy, vz):\n",
    "        self.x = x\n",
    "        self.y = y\n",
    "        self.vx = vx\n",
    "        self.vy = vy\n",
    "        self.z = z\n",
    "        self.vz = vz\n",
    "\n",
    "class Energy:\n",
    "    def __init__(self, E_tot, E_kin, E_pot):\n",
    "        self.E_tot = E_tot\n",
    "        self.E_kin = E_kin\n",
    "        self.E_pot = E_pot"
   ]
  },
  {
   "cell_type": "code",
   "execution_count": 10,
   "metadata": {},
   "outputs": [],
   "source": [
    "# Loop to initialize the particles\n",
    "\n",
    "#Using natural units\n",
    "n_particles = int(np.size(pos)/6)\n",
    "L = 5.0 # length of box\n",
    "\n",
    "particles = []\n",
    "\n",
    "energy = []\n",
    "E_kin_initial = np.array([0.0])\n",
    "E_pot_initial = np.array([0.0])\n",
    "\n",
    "T = 1 #units epsilon/k_B = 119.8 K, is input of user\n",
    "#velocity = np.random.normal(0, np.sqrt(T), size=(1, 3))\n",
    "#N = 3*n_particles #3 dof for every particle\n",
    "#lambda_scale = np.sqrt((N-1)*3*T/2*E_kin) #E_kin = 0.5*v**2\n",
    "rho = 1 #input of user, units of sigma**-3, N*m/L^3\n",
    "\n",
    "\n",
    "\n",
    "# for i in range(n_particles-1):\n",
    "    \n",
    "#     x = random.uniform(0, 5.0) #sigma\n",
    "#     y = random.uniform(0, 5.0) #sigma\n",
    "#     position = np.array([[x],[y]])\n",
    "\n",
    "#     vx = np.random.normal(0, np.sqrt(T)) #sqrt(epsilon/m)\n",
    "#     vy = np.random.normal(0, np.sqrt(T)) #sqrt(epsilon/m)\n",
    "#     velocity = np.array([[vx],[vy]])\n",
    "#     #particle = Particle(position[0], position[1], velocity[0], velocity[1])\n",
    "#     particle = Particle(pos[i,0], pos[i,1], pos[i,2], pos[i,3], pos[i,4], pos[i,5])\n",
    "#     particles.append(particle)\n",
    "#     E_kin_initial += 0.5*(vx**2+vy**2)\n",
    "\n",
    "\n",
    "# energy_initial  = Energy(E_kin_initial+E_pot_initial,E_kin_initial,E_pot_initial)\n",
    "# energy.append(energy_initial)\n",
    "    \n",
    "# particles_array = np.array(particles)\n",
    "# energy_array = np.array(energy)"
   ]
  },
  {
   "cell_type": "code",
   "execution_count": 9,
   "metadata": {},
   "outputs": [
    {
     "name": "stdout",
     "output_type": "stream",
     "text": [
      "[[0. 0. 0. 0. 0. 0.]\n",
      " [0. 0. 0. 0. 0. 0.]\n",
      " [0. 0. 0. 0. 0. 0.]\n",
      " [0. 0. 0. 0. 0. 0.]]\n",
      "[[ 0.          0.          0.          0.25235122 -0.39904157 -0.97672686]\n",
      " [ 0.5         0.5         0.         -0.71736741 -0.12831864 -0.27364774]\n",
      " [ 0.5         0.          0.5        -0.04342122 -0.29693407 -1.04341411]\n",
      " [ 0.          0.5         0.5         1.44581923 -0.11163483  0.09049113]]\n"
     ]
    }
   ],
   "source": [
    "#Positions of atoms\n",
    "L = 1\n",
    "T = 1\n",
    "\n",
    "\n",
    "unit_cell = np.array([[0,0,0],[L/2,L/2,0],[L/2,0,L/2],[0,L/2,L/2]])\n",
    "pos = np.zeros((4,6))\n",
    "\n",
    "n_particles = int(np.size(pos)/6)\n",
    "\n",
    "#Number of cells\n",
    "Nx = 1\n",
    "Ny = 1\n",
    "Nz = 1\n",
    "Step = 0\n",
    "for i in range(Nx):\n",
    "    for j in range(Ny):\n",
    "        for k in range(Nz):\n",
    "            pos[Step:Step+4,:3] = (unit_cell + np.tile(L*[i,j,k],4).reshape(4,3))\n",
    "            Velocities = np.zeros((4,3))\n",
    "            for l in range(int(np.size(unit_cell)/3)):\n",
    "                vx = np.random.normal(0, np.sqrt(T))\n",
    "                vy = np.random.normal(0, np.sqrt(T))\n",
    "                vz = np.random.normal(0, np.sqrt(T))\n",
    "                Velocities[l,:] = np.array([vx,vy,vz])\n",
    "                \n",
    "            \n",
    "            pos[Step:Step+4,3:] = Velocities\n",
    "            Step += int(np.size(unit_cell)/3)\n",
    "            \n",
    "print(pos)\n",
    "# print(np.sum(0.5*Velocities[:,:]**2))\n",
    "# print(Velocities[:,:])\n"
   ]
  },
  {
   "cell_type": "code",
   "execution_count": 10,
   "metadata": {},
   "outputs": [
    {
     "name": "stdout",
     "output_type": "stream",
     "text": [
      "[190.11226681 190.11226681 190.11226681]\n"
     ]
    }
   ],
   "source": [
    "def Force(A_Position,B_Position):\n",
    "    Sequence_Polarity = np.array(A_Position>B_Position)*2 -1\n",
    "    Image_Polarity = np.array(np.power((A_Position-B_Position),2)>(L/2)**(2))\n",
    "    Distances = (Image_Polarity*L-np.abs(A_Position-B_Position))\n",
    "    Distance = np.sum(np.power(Distances,2))**(0.5)\n",
    "    Total_Force = 4*(6/(Distance)**(7) - 12/(Distance)**(13))\n",
    "    Directions = Distances*Sequence_Polarity\n",
    "    Forces = (Directions/Distance)*Total_Force\n",
    "    return Forces\n",
    "    \n",
    "A_Position = np.array([0.1,0.1,0.1])\n",
    "B_Position = np.array([0.61,0.61,0.61])\n",
    "print(Force(A_Position,B_Position))"
   ]
  },
  {
   "cell_type": "code",
   "execution_count": 6,
   "metadata": {},
   "outputs": [
    {
     "ename": "NameError",
     "evalue": "name 'pos' is not defined",
     "output_type": "error",
     "traceback": [
      "\u001b[1;31m---------------------------------------------------------------------------\u001b[0m",
      "\u001b[1;31mNameError\u001b[0m                                 Traceback (most recent call last)",
      "\u001b[1;32m<ipython-input-6-3dcffb01c488>\u001b[0m in \u001b[0;36m<module>\u001b[1;34m\u001b[0m\n\u001b[0;32m      3\u001b[0m \u001b[0mIterations\u001b[0m \u001b[1;33m=\u001b[0m \u001b[1;36m200\u001b[0m\u001b[1;33m\u001b[0m\u001b[1;33m\u001b[0m\u001b[0m\n\u001b[0;32m      4\u001b[0m \u001b[1;31m#pos = L*np.array([[0.1,0.1,1,0.1,0,0],[0.7,0.7,0.7,0,0,0],[1,1,0,0,0,0]])\u001b[0m\u001b[1;33m\u001b[0m\u001b[1;33m\u001b[0m\u001b[1;33m\u001b[0m\u001b[0m\n\u001b[1;32m----> 5\u001b[1;33m \u001b[0mN_Particles\u001b[0m \u001b[1;33m=\u001b[0m \u001b[0mnp\u001b[0m\u001b[1;33m.\u001b[0m\u001b[0mshape\u001b[0m\u001b[1;33m(\u001b[0m\u001b[0mpos\u001b[0m\u001b[1;33m)\u001b[0m\u001b[1;33m[\u001b[0m\u001b[1;36m0\u001b[0m\u001b[1;33m]\u001b[0m\u001b[1;33m\u001b[0m\u001b[1;33m\u001b[0m\u001b[0m\n\u001b[0m\u001b[0;32m      6\u001b[0m \u001b[0mDimensions\u001b[0m \u001b[1;33m=\u001b[0m \u001b[1;36m3\u001b[0m\u001b[1;33m\u001b[0m\u001b[1;33m\u001b[0m\u001b[0m\n\u001b[0;32m      7\u001b[0m \u001b[1;33m\u001b[0m\u001b[0m\n",
      "\u001b[1;31mNameError\u001b[0m: name 'pos' is not defined"
     ]
    }
   ],
   "source": [
    "L=5\n",
    "Timestep = 0.001\n",
    "Iterations = 200\n",
    "#pos = L*np.array([[0.1,0.1,1,0.1,0,0],[0.7,0.7,0.7,0,0,0],[1,1,0,0,0,0]])\n",
    "N_Particles = np.shape(pos)[0]\n",
    "Dimensions = 3\n",
    "\n",
    "Historic_Positions = np.zeros((N_Particles,Dimensions,Iterations))\n",
    "Historic_Velocities = np.zeros((N_Particles,Dimensions,Iterations))\n",
    "print(np.shape(Historic_Positions))\n",
    "Positions = pos[:,:3]\n",
    "Velocities = pos[:,3:]\n",
    "Historic_Positions[:,:,0] = Positions\n",
    "Historic_Velocities[:,:,0] = Velocities\n",
    "\n",
    "Energy = np.zeros((Iterations,3))\n",
    "# print(Velocities[:,:])\n",
    "# print(np.sum(0.5*Velocities[:,:]**2))\n",
    "#kin, pot, total\n",
    "\n",
    "for t in range(Iterations-1):\n",
    "    Energy[t,0] = np.sum(0.5*Velocities[:,:]**2)\n",
    "    Energy[t,1] = np.sum(Forces)\n",
    "    Energy[t,2] = Energy[t,0] + Energy[t,1]\n",
    "    print(\"v\",Velocities)\n",
    "    Forces = np.zeros((N_Particles,Dimensions))\n",
    "    for i in range(N_Particles):\n",
    "        for j in range(N_Particles):\n",
    "            if (i != j):\n",
    "                Added_Forces = Force(Positions[i,:],Positions[j,:])\n",
    "                Forces[i] += Added_Forces\n",
    "                \n",
    "    Positions = (Historic_Positions[:,:,t] + Velocities*Timestep + Forces*(Timestep**2)/2)%L\n",
    "    Historic_Positions[:,:,t+1] = Positions\n",
    "    if (t>0):\n",
    "        Velocities = Historic_Velocities[:,:,t-1] + (Historic_Forces+Forces)*(Timestep/2)\n",
    "        Historic_Velocities[:,:,t] = Velocities\n",
    "    Historic_Forces = Forces\n",
    "#     plt.scatter(Positions[:,0],Positions[:,1])\n",
    "#     plt.xlim(0,L)\n",
    "#     plt.ylim(0,L)\n",
    "#     plt.show()\n",
    "#     clear_output(wait=True)\n",
    "    \n",
    "    \n",
    "                \n",
    "                \n"
   ]
  },
  {
   "cell_type": "code",
   "execution_count": 71,
   "metadata": {},
   "outputs": [
    {
     "data": {
      "text/plain": [
       "[<matplotlib.lines.Line2D at 0x15173fb4ac8>]"
      ]
     },
     "execution_count": 71,
     "metadata": {},
     "output_type": "execute_result"
    },
    {
     "data": {
      "image/png": "[encoded data removed]",
      "text/plain": [
       "<Figure size 432x288 with 1 Axes>"
      ]
     },
     "metadata": {
      "needs_background": "light"
     },
     "output_type": "display_data"
    }
   ],
   "source": [
    "#plt.plot(Energy[:,0])\n",
    "plt.plot(Energy[:,1])\n",
    "#plt.plot(Energy[:,2])"
   ]
  },
  {
   "cell_type": "code",
   "execution_count": 63,
   "metadata": {},
   "outputs": [
    {
     "name": "stdout",
     "output_type": "stream",
     "text": [
      "<class 'numpy.ndarray'>\n"
     ]
    },
    {
     "data": {
      "image/png": "[encoded data removed]",
      "text/plain": [
       "<Figure size 432x288 with 1 Axes>"
      ]
     },
     "metadata": {
      "needs_background": "light"
     },
     "output_type": "display_data"
    }
   ],
   "source": [
    "plt.scatter(Historic_Positions[0,0,:],Historic_Positions[0,1,:])\n",
    "plt.scatter(Historic_Positions[1,0,:],Historic_Positions[1,1,:])\n",
    "Historic_Positions[:,:,0]\n",
    "\n",
    "print(type(Historic_Positions))"
   ]
  },
  {
   "cell_type": "code",
   "execution_count": null,
   "metadata": {},
   "outputs": [],
   "source": [
    "\"\"\"\n",
    "timesteps = 10\n",
    "\n",
    "for i in range(timesteps): #after each step i the particles will move\n",
    "    #Store the energies per particle\n",
    "    E_kin_particles = n_particles*[0]\n",
    "    E_pot_particles = n_particles*[0]\n",
    "\n",
    "    for j in range(n_particles): #finding the new values of velocity and position for each particle j\n",
    "        total_acceleration_x = 0\n",
    "        total_acceleration_y = 0\n",
    "        \n",
    "\n",
    "        for k in range(n_particles): #evaluating the net force acting on the particle j from the interacion with all other particles\n",
    "            if k != j:\n",
    "                acceleration = Grad_potential(particles_array[j].x[-1], particles_array[j].y[-1], \n",
    "                                              (particles_array[j].x[-1] - particles_array[k].x[-1] + L/2) % L - L/2, \n",
    "                                              (particles_array[j].y[-1] - particles_array[k].y[-1] + L/2) % L - L/2)\n",
    "                total_acceleration_x += acceleration[0]\n",
    "                total_acceleration_y += acceleration[1]\n",
    "        \n",
    "        new_x = particles_array[j].x[-1] + particles_array[j].vx[-1]*h + h**2/2*total_acceleration_x\n",
    "        new_y = particles_array[j].y[-1] + particles_array[j].vy[-1]*h + h**2/2*total_acceleration_y\n",
    "        \n",
    "        particles[j].x = np.append(particles_array[j].x, boxcheck(new_x, new_y)[0])\n",
    "        particles[j].y = np.append(particles_array[j].y, boxcheck(new_x, new_y)[1])\n",
    "\n",
    "        \n",
    "        old_total_acceleration_x = 0\n",
    "        old_total_acceleration_y = 0\n",
    "        \n",
    "\n",
    "        for k in range(n_particles): #evaluating the net force acting on the particle j from the interacion with all other particles\n",
    "            if k != j:\n",
    "                old_acceleration = Grad_potential(particles_array[j].x[-1], particles_array[j].y[-1], \n",
    "                                                  (particles_array[j].x[-1] - particles_array[k].x[-1] + L/2) % L - L/2,\n",
    "                                                  (particles_array[j].y[-1] - particles_array[k].y[-1] + L/2) % L - L/2)\n",
    "                old_total_acceleration_x += old_acceleration[0]\n",
    "                old_total_acceleration_y += old_acceleration[1]            \n",
    "        \n",
    "        new_vel_x = particles_array[j].vx[-1] +h/2 * (total_acceleration_x + old_total_acceleration_x)\n",
    "        new_vel_y = particles_array[j].vy[-1] +h/2 * (total_acceleration_y + old_total_acceleration_y)\n",
    "        \n",
    "       # if energy[0].E_kin.[-1] < 0.7 * ((N-1)*3/2*T) or energy[0].E_kin.[-1] > 0.7 * ((N-1)*3/2*T):\n",
    "        #    new_vel_x = np.sqrt((N-1)*3*T/2*energy[0].E_kin.[-1])*new_vel_x\n",
    "         #   new_vel_y = np.sqrt((N-1)*3*T/2*energy[0].E_kin.[-1])*new_vel_y\n",
    "          #  p = j\n",
    "            \n",
    "            \n",
    "        particles[j].vx = np.append(particles_array[j].vx, new_vel_x)\n",
    "        particles[j].vy = np.append(particles_array[j].vy, new_vel_y)\n",
    "\n",
    "\n",
    "        #Determine the different energies per particle\n",
    "        E_kin_particles[j]=(0.5*(new_vel_x[0]**2+new_vel_y[0]**2))\n",
    "        E_pot_particles[j]=(total_acceleration_x[0]+total_acceleration_y[0])\n",
    "\n",
    "    #sum the energies of all particles to get the total energies\n",
    "    E_kin_new = sum(E_kin_particles)\n",
    "    E_pot_new = sum(E_pot_particles)\n",
    "    E_tot_new = E_kin_new + E_pot_new\n",
    "    \n",
    "    energy[0].E_kin = np.append(energy_array[0].E_kin, E_kin_new)   \n",
    "    energy[0].E_tot = np.append(energy_array[0].E_tot, E_tot_new)\n",
    "    energy[0].E_pot = np.append(energy_array[0].E_pot, E_pot_new)\n",
    "\"\"\""
   ]
  },
  {
   "cell_type": "code",
   "execution_count": null,
   "metadata": {},
   "outputs": [],
   "source": [
    "# for i in range(n_particles):\n",
    "#     plt.plot(particles_array[i].x, particles_array[i].y)\n",
    "# plt.title(\"Positions of particles\")\n",
    "# plt.xlabel(\"x position ($\\sigma$)\")\n",
    "# plt.ylabel(\"y position ($\\sigma$)\")\n",
    "# plt.xlim(0,L)\n",
    "# plt.ylim(0,L)"
   ]
  },
  {
   "cell_type": "code",
   "execution_count": null,
   "metadata": {},
   "outputs": [],
   "source": [
    "# plt.plot(np.arange(timesteps+1), energy_array[0].E_kin, label = 'Kinetic energy')\n",
    "# plt.plot(np.arange(timesteps+1), energy_array[0].E_pot, label = 'Potential energy')\n",
    "# plt.plot(np.arange(timesteps+1), energy_array[0].E_tot, label = 'Total energy')\n",
    "# plt.title(\"Energy of the total system\")\n",
    "# plt.xlabel(\"Timestep\")\n",
    "# plt.ylabel(\"Energy ($\\epsilon$)\")\n",
    "# plt.legend()\n",
    "# plt.show()"
   ]
  }
 ],
 "metadata": {
  "kernelspec": {
   "display_name": "Python 3",
   "language": "python",
   "name": "python3"
  },
  "language_info": {
   "codemirror_mode": {
    "name": "ipython",
    "version": 3
   },
   "file_extension": ".py",
   "mimetype": "text/x-python",
   "name": "python",
   "nbconvert_exporter": "python",
   "pygments_lexer": "ipython3",
   "version": "3.7.3"
  }
 },
 "nbformat": 4,
 "nbformat_minor": 2
}
